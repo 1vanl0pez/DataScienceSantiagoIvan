{
  "nbformat": 4,
  "nbformat_minor": 0,
  "metadata": {
    "colab": {
      "provenance": [],
      "include_colab_link": true
    },
    "kernelspec": {
      "name": "python3",
      "display_name": "Python 3"
    },
    "language_info": {
      "name": "python"
    }
  },
  "cells": [
    {
      "cell_type": "markdown",
      "metadata": {
        "id": "view-in-github",
        "colab_type": "text"
      },
      "source": [
        "<a href=\"https://colab.research.google.com/github/1vanl0pez/DataScienceSantiagoIvan/blob/streamLit/DSPRO1_HRAnalytics.ipynb\" target=\"_parent\"><img src=\"https://colab.research.google.com/assets/colab-badge.svg\" alt=\"Open In Colab\"/></a>"
      ]
    },
    {
      "cell_type": "code",
      "source": [
        "!pip install streamlit pyngrok\n",
        "!pip install millify"
      ],
      "metadata": {
        "collapsed": true,
        "id": "6zoS2kb_zpvr",
        "outputId": "6b02dec9-bbac-4ce2-c729-e9bbcdd58b67",
        "colab": {
          "base_uri": "https://localhost:8080/"
        }
      },
      "execution_count": 92,
      "outputs": [
        {
          "output_type": "stream",
          "name": "stdout",
          "text": [
            "Requirement already satisfied: streamlit in /usr/local/lib/python3.10/dist-packages (1.40.2)\n",
            "Requirement already satisfied: pyngrok in /usr/local/lib/python3.10/dist-packages (7.2.1)\n",
            "Requirement already satisfied: altair<6,>=4.0 in /usr/local/lib/python3.10/dist-packages (from streamlit) (4.2.2)\n",
            "Requirement already satisfied: blinker<2,>=1.0.0 in /usr/local/lib/python3.10/dist-packages (from streamlit) (1.9.0)\n",
            "Requirement already satisfied: cachetools<6,>=4.0 in /usr/local/lib/python3.10/dist-packages (from streamlit) (5.5.0)\n",
            "Requirement already satisfied: click<9,>=7.0 in /usr/local/lib/python3.10/dist-packages (from streamlit) (8.1.7)\n",
            "Requirement already satisfied: numpy<3,>=1.23 in /usr/local/lib/python3.10/dist-packages (from streamlit) (1.26.4)\n",
            "Requirement already satisfied: packaging<25,>=20 in /usr/local/lib/python3.10/dist-packages (from streamlit) (24.2)\n",
            "Requirement already satisfied: pandas<3,>=1.4.0 in /usr/local/lib/python3.10/dist-packages (from streamlit) (2.2.2)\n",
            "Requirement already satisfied: pillow<12,>=7.1.0 in /usr/local/lib/python3.10/dist-packages (from streamlit) (11.0.0)\n",
            "Requirement already satisfied: protobuf<6,>=3.20 in /usr/local/lib/python3.10/dist-packages (from streamlit) (4.25.5)\n",
            "Requirement already satisfied: pyarrow>=7.0 in /usr/local/lib/python3.10/dist-packages (from streamlit) (17.0.0)\n",
            "Requirement already satisfied: requests<3,>=2.27 in /usr/local/lib/python3.10/dist-packages (from streamlit) (2.32.3)\n",
            "Requirement already satisfied: rich<14,>=10.14.0 in /usr/local/lib/python3.10/dist-packages (from streamlit) (13.9.4)\n",
            "Requirement already satisfied: tenacity<10,>=8.1.0 in /usr/local/lib/python3.10/dist-packages (from streamlit) (9.0.0)\n",
            "Requirement already satisfied: toml<2,>=0.10.1 in /usr/local/lib/python3.10/dist-packages (from streamlit) (0.10.2)\n",
            "Requirement already satisfied: typing-extensions<5,>=4.3.0 in /usr/local/lib/python3.10/dist-packages (from streamlit) (4.12.2)\n",
            "Requirement already satisfied: watchdog<7,>=2.1.5 in /usr/local/lib/python3.10/dist-packages (from streamlit) (6.0.0)\n",
            "Requirement already satisfied: gitpython!=3.1.19,<4,>=3.0.7 in /usr/local/lib/python3.10/dist-packages (from streamlit) (3.1.43)\n",
            "Requirement already satisfied: pydeck<1,>=0.8.0b4 in /usr/local/lib/python3.10/dist-packages (from streamlit) (0.9.1)\n",
            "Requirement already satisfied: tornado<7,>=6.0.3 in /usr/local/lib/python3.10/dist-packages (from streamlit) (6.3.3)\n",
            "Requirement already satisfied: PyYAML>=5.1 in /usr/local/lib/python3.10/dist-packages (from pyngrok) (6.0.2)\n",
            "Requirement already satisfied: entrypoints in /usr/local/lib/python3.10/dist-packages (from altair<6,>=4.0->streamlit) (0.4)\n",
            "Requirement already satisfied: jinja2 in /usr/local/lib/python3.10/dist-packages (from altair<6,>=4.0->streamlit) (3.1.4)\n",
            "Requirement already satisfied: jsonschema>=3.0 in /usr/local/lib/python3.10/dist-packages (from altair<6,>=4.0->streamlit) (4.23.0)\n",
            "Requirement already satisfied: toolz in /usr/local/lib/python3.10/dist-packages (from altair<6,>=4.0->streamlit) (0.12.1)\n",
            "Requirement already satisfied: gitdb<5,>=4.0.1 in /usr/local/lib/python3.10/dist-packages (from gitpython!=3.1.19,<4,>=3.0.7->streamlit) (4.0.11)\n",
            "Requirement already satisfied: python-dateutil>=2.8.2 in /usr/local/lib/python3.10/dist-packages (from pandas<3,>=1.4.0->streamlit) (2.8.2)\n",
            "Requirement already satisfied: pytz>=2020.1 in /usr/local/lib/python3.10/dist-packages (from pandas<3,>=1.4.0->streamlit) (2024.2)\n",
            "Requirement already satisfied: tzdata>=2022.7 in /usr/local/lib/python3.10/dist-packages (from pandas<3,>=1.4.0->streamlit) (2024.2)\n",
            "Requirement already satisfied: charset-normalizer<4,>=2 in /usr/local/lib/python3.10/dist-packages (from requests<3,>=2.27->streamlit) (3.4.0)\n",
            "Requirement already satisfied: idna<4,>=2.5 in /usr/local/lib/python3.10/dist-packages (from requests<3,>=2.27->streamlit) (3.10)\n",
            "Requirement already satisfied: urllib3<3,>=1.21.1 in /usr/local/lib/python3.10/dist-packages (from requests<3,>=2.27->streamlit) (2.2.3)\n",
            "Requirement already satisfied: certifi>=2017.4.17 in /usr/local/lib/python3.10/dist-packages (from requests<3,>=2.27->streamlit) (2024.8.30)\n",
            "Requirement already satisfied: markdown-it-py>=2.2.0 in /usr/local/lib/python3.10/dist-packages (from rich<14,>=10.14.0->streamlit) (3.0.0)\n",
            "Requirement already satisfied: pygments<3.0.0,>=2.13.0 in /usr/local/lib/python3.10/dist-packages (from rich<14,>=10.14.0->streamlit) (2.18.0)\n",
            "Requirement already satisfied: smmap<6,>=3.0.1 in /usr/local/lib/python3.10/dist-packages (from gitdb<5,>=4.0.1->gitpython!=3.1.19,<4,>=3.0.7->streamlit) (5.0.1)\n",
            "Requirement already satisfied: MarkupSafe>=2.0 in /usr/local/lib/python3.10/dist-packages (from jinja2->altair<6,>=4.0->streamlit) (3.0.2)\n",
            "Requirement already satisfied: attrs>=22.2.0 in /usr/local/lib/python3.10/dist-packages (from jsonschema>=3.0->altair<6,>=4.0->streamlit) (24.2.0)\n",
            "Requirement already satisfied: jsonschema-specifications>=2023.03.6 in /usr/local/lib/python3.10/dist-packages (from jsonschema>=3.0->altair<6,>=4.0->streamlit) (2024.10.1)\n",
            "Requirement already satisfied: referencing>=0.28.4 in /usr/local/lib/python3.10/dist-packages (from jsonschema>=3.0->altair<6,>=4.0->streamlit) (0.35.1)\n",
            "Requirement already satisfied: rpds-py>=0.7.1 in /usr/local/lib/python3.10/dist-packages (from jsonschema>=3.0->altair<6,>=4.0->streamlit) (0.21.0)\n",
            "Requirement already satisfied: mdurl~=0.1 in /usr/local/lib/python3.10/dist-packages (from markdown-it-py>=2.2.0->rich<14,>=10.14.0->streamlit) (0.1.2)\n",
            "Requirement already satisfied: six>=1.5 in /usr/local/lib/python3.10/dist-packages (from python-dateutil>=2.8.2->pandas<3,>=1.4.0->streamlit) (1.16.0)\n",
            "Requirement already satisfied: millify in /usr/local/lib/python3.10/dist-packages (0.1.1)\n"
          ]
        }
      ]
    },
    {
      "cell_type": "code",
      "source": [
        "# Obtain file from Google Drive\n",
        "from google.colab import drive\n",
        "drive.mount('/content/drive')\n",
        "import pandas as pd\n",
        "file_path = '/content/drive/MyDrive/general_data.xlsx'\n",
        "df = pd.read_excel(file_path)\n",
        "# Save dataframe as a CSV to make it easier to load in the Streamlit script\n",
        "df.to_csv('/content/general_data.csv', index=False)"
      ],
      "metadata": {
        "id": "kYIGWTg42obu",
        "outputId": "9011df0a-9cd6-4cde-9c58-26a1153465c3",
        "colab": {
          "base_uri": "https://localhost:8080/"
        }
      },
      "execution_count": 93,
      "outputs": [
        {
          "output_type": "stream",
          "name": "stdout",
          "text": [
            "Drive already mounted at /content/drive; to attempt to forcibly remount, call drive.mount(\"/content/drive\", force_remount=True).\n"
          ]
        }
      ]
    },
    {
      "cell_type": "code",
      "source": [
        "%%writefile app.py\n",
        "# Import libraries\n",
        "import streamlit as st\n",
        "import pandas as pd\n",
        "import numpy as np\n",
        "from sklearn.ensemble import RandomForestRegressor\n",
        "from sklearn.model_selection import KFold\n",
        "from sklearn.metrics import mean_squared_error\n",
        "from millify import millify\n",
        "\n",
        "# Cargar datos desde el archivo CSV guardado\n",
        "file_path = '/content/general_data.csv'\n",
        "df = pd.read_csv(file_path)\n",
        "# Paso de limpieza de datos\n",
        "columns_with_na = df.columns[df.isnull().sum() > 0].tolist()\n",
        "for col in columns_with_na:\n",
        "    median_value = df[col].median()\n",
        "    df.fillna({col: median_value}, inplace=True)\n",
        "df = pd.get_dummies(df, drop_first=True)\n",
        "\n",
        "def suggest_optimized_adjustments(input_data, model, step=0.5, target_increase=0.5, max_satisfaction=4.0, max_iterations=500):\n",
        "    base_prediction = model.predict(pd.DataFrame(input_data, columns=top_5_features.columns))[0]\n",
        "    target_prediction = min(base_prediction + target_increase, max_satisfaction)\n",
        "    adjusted_data = input_data.copy()\n",
        "    correlations = {feature: data_stayed[feature].corr(data_stayed[\"JobSatisfaction\"]) for feature in top_5_features}\n",
        "    for iteration in range(max_iterations):\n",
        "        total_adjustments = []\n",
        "        adjustments_applied = False\n",
        "        for idx, feature in enumerate(top_5_features):\n",
        "            if feature == \"MonthlyIncome\":\n",
        "                percent_salary_hike_index = top_5_features.columns.get_loc(\"PercentSalaryHike\")\n",
        "                if adjusted_data[0, percent_salary_hike_index] > 30 and all(adjusted_data[0, i] <= 0 for i in range(len(top_5_features)) if top_5_features[i] != \"MonthlyIncome\"):\n",
        "                    adjusted_data[0, idx] += 100\n",
        "                    new_prediction = model.predict(pd.DataFrame(adjusted_data, columns=top_5_features))[0]\n",
        "                    if new_prediction >= target_prediction:\n",
        "                        return {\n",
        "                            \"Adjusted Inputs\": dict(zip(top_5_features, adjusted_data[0])),\n",
        "                            \"New Prediction\": new_prediction,\n",
        "                            \"Iterations\": iteration + 1\n",
        "                        }\n",
        "                    adjustments_applied = True\n",
        "                    continue\n",
        "            input_modified = adjusted_data.copy()\n",
        "            relationship_direction = 1 if correlations[feature] > 0 else -1\n",
        "            proposed_value = adjusted_data[0, idx] + step * relationship_direction\n",
        "            if proposed_value <= 0:\n",
        "                continue\n",
        "            if feature == \"PercentSalaryHike\" and proposed_value > 30:\n",
        "                continue\n",
        "            input_modified[0, idx] = proposed_value\n",
        "            new_prediction = model.predict(pd.DataFrame(input_modified, columns=top_5_features.columns))[0]\n",
        "            impact_per_unit = (new_prediction - base_prediction) / step\n",
        "            if abs(impact_per_unit) > 0:\n",
        "                adjustment_step = step * relationship_direction\n",
        "                total_adjustments.append((idx, adjustment_step, impact_per_unit))\n",
        "                adjustments_applied = True\n",
        "\n",
        "        for idx, adjustment_step, _ in total_adjustments:\n",
        "            adjusted_data[0, idx] += adjustment_step\n",
        "\n",
        "        new_prediction = model.predict(pd.DataFrame(adjusted_data, columns=top_5_features.columns))[0]\n",
        "        if new_prediction >= target_prediction:\n",
        "            return {\n",
        "                \"Adjusted Inputs\": dict(zip(top_5_features.columns, adjusted_data[0])),\n",
        "                \"New Prediction\": new_prediction,\n",
        "                \"Iterations\": iteration + 1\n",
        "            }\n",
        "        if not adjustments_applied:\n",
        "            return {\n",
        "                \"Message\": \"No further optimization possible while maintaining positive values.\",\n",
        "                \"Adjusted Inputs\": dict(zip(top_5_features, adjusted_data[0])),\n",
        "                \"Final Prediction\": new_prediction\n",
        "            }\n",
        "    return {\n",
        "        \"Message\": \"Max iterations reached without achieving target increase.\",\n",
        "        \"Adjusted Inputs\": dict(zip(top_5_features.columns, adjusted_data[0])),\n",
        "        \"Final Prediction\": new_prediction\n",
        "    }\n",
        "\n",
        "# Definir características y pasos de entrenamiento del modelo\n",
        "data_stayed = df[df['Attrition_Yes'] == 0]\n",
        "X_stayed = data_stayed.drop(columns=[\"JobSatisfaction\"])\n",
        "y_stayed = data_stayed[\"JobSatisfaction\"]\n",
        "\n",
        "top_5_features = X_stayed[[\"MonthlyIncome\", \"DistanceFromHome\", \"PercentSalaryHike\",\n",
        "                           \"YearsSinceLastPromotion\", \"TrainingTimesLastYear\"]]\n",
        "X_important_stayed = data_stayed[top_5_features.columns]\n",
        "\n",
        "final_model = RandomForestRegressor(n_estimators=100, random_state=24)\n",
        "final_model.fit(X_important_stayed, y_stayed)\n",
        "\n",
        "# Streamlit UI\n",
        "col1, col2 = st.columns([1, 3])\n",
        "with col1:\n",
        "    st.image(\"satislab_logo.png\", width=200)\n",
        "with col2:\n",
        "    st.title(\"Job Satisfaction Prediction App\")\n",
        "st.header(\"Enter the following data to determine job satisfaction:\")\n",
        "st.subheader(\"Features range :\")\n",
        "for feature in top_5_features.columns:\n",
        "    min_val = data_stayed[feature].min()\n",
        "    max_val = data_stayed[feature].max()\n",
        "    mean_val = data_stayed[feature].mean()\n",
        "    st.write(f\"{feature} - Min: {min_val} - Max: {max_val} - Avg: {mean_val:.2f}\")\n",
        "\n",
        "input_data = []\n",
        "for feature in top_5_features.columns:\n",
        "    value = st.number_input(feature, min_value=0.0)\n",
        "    input_data.append(value)\n",
        "\n",
        "input_data = np.array([input_data])\n",
        "\n",
        "if st.button('Predict Satisfaction'):\n",
        "    satisfaction_prediction = final_model.predict(pd.DataFrame(input_data, columns=top_5_features.columns))[0]\n",
        "\n",
        "    if satisfaction_prediction <= 2:\n",
        "        traffic_light = \"Red\"\n",
        "        traffic_image = \"red.png\"\n",
        "    elif 2 < satisfaction_prediction <= 3:\n",
        "        traffic_light = \"Yellow\"\n",
        "        traffic_image= \"yellow.png\"\n",
        "    else:\n",
        "        traffic_light = \"Green\"\n",
        "        traffic_image = \"green.png\"\n",
        "\n",
        "    cols = st.columns([1,1,1,1])\n",
        "    with cols[1]:\n",
        "        st.markdown(f\"\"\"\n",
        "            <div style=\"display: flex; align-items: center; justify-content: space-between; height: 135px; padding: 10px; border: 1px solid #ddd; border-radius: 10px; margin: 10px 0;\">\n",
        "                <div style=\"text-align: center;\">\n",
        "                    <div style=\"font-size: 20px; font-weight: bold; color: #a8b0b2;\">Predicted satisfaction</div>\n",
        "                    <div style=\"font-size: 40px; font-weight: bold; color: #0671e3;\">{satisfaction_prediction:.2f}</div>\n",
        "                </div>\n",
        "            </div>\n",
        "        \"\"\", unsafe_allow_html=True)\n",
        "    with cols[2]:\n",
        "        st.image(traffic_image, width=75)\n",
        "\n",
        "    if traffic_light != \"Green\":\n",
        "        st.write(\"Optimizing adjustments to improve satisfaction...\")\n",
        "        optimization_result = suggest_optimized_adjustments(input_data, final_model, step=0.5, target_increase=0.5, max_satisfaction=4.0)\n",
        "        if \"Adjusted Inputs\" in optimization_result:\n",
        "            original_values = dict(zip(top_5_features.columns, input_data[0]))\n",
        "            adjusted_values = optimization_result[\"Adjusted Inputs\"]\n",
        "            final_prediction = optimization_result.get(\"New Prediction\", satisfaction_prediction)\n",
        "            iterations = optimization_result.get(\"Iterations\", 0)\n",
        "            prediction_delta = final_prediction - satisfaction_prediction\n",
        "            st.subheader(\"Optimization results:\")\n",
        "            # Create columns for displaying metrics\n",
        "            columns = st.columns(len(top_5_features.columns))\n",
        "            for idx, (feature, adjusted_value) in enumerate(adjusted_values.items()):\n",
        "                original_value = original_values[feature]\n",
        "                delta = adjusted_value - original_value\n",
        "                with columns[idx]:  # Place each metric in its corresponding column\n",
        "                    if feature == \"MonthlyIncome\":\n",
        "                        income = millify(adjusted_value, precision=5)\n",
        "                        st.metric(label=feature, value=income, delta=f\"{delta:.2f}\")\n",
        "                    else:\n",
        "                        st.metric(label=feature, value=f\"{adjusted_value:.2f}\", delta=f\"{delta:.2f}\")\n",
        "            # Display final prediction and iterations\n",
        "            if final_prediction <= 2:\n",
        "                traffic_image = \"red.png\"\n",
        "            elif 2 < final_prediction <= 3:\n",
        "                traffic_image= \"yellow.png\"\n",
        "            else:\n",
        "                traffic_image = \"green.png\"\n",
        "            colus = st.columns([1,1,1,1])\n",
        "            with colus[1]:\n",
        "                st.markdown(f\"\"\"\n",
        "                    <div style=\"display: flex; align-items: center; justify-content: space-between; height: 135px; padding: 10px; border: 1px solid #ddd; border-radius: 10px; margin: 10px 0;\">\n",
        "                        <div style=\"text-align: center;\">\n",
        "                            <div style=\"font-size: 20px; font-weight: bold; color: #a8b0b2;\">Final job satisfaction</div>\n",
        "                            <div style=\"font-size: 40px; font-weight: bold; color: #0671e3;\">{final_prediction:.2f}</div>\n",
        "                        </div>\n",
        "                    </div>\n",
        "                \"\"\", unsafe_allow_html=True)\n",
        "            with colus[2]:\n",
        "                st.image(traffic_image, width=75)\n",
        "                st.write(f\"Iterations: {iterations}\")\n",
        "        else:\n",
        "            st.write(optimization_result[\"Message\"])\n",
        "    else:\n",
        "        st.write(\"Satisfaction is already at green level. No adjustments needed.\")"
      ],
      "metadata": {
        "id": "zaefG_qx4H_k",
        "outputId": "22603a33-e5a5-440f-f90e-23d1c65cc13f",
        "colab": {
          "base_uri": "https://localhost:8080/"
        }
      },
      "execution_count": 111,
      "outputs": [
        {
          "output_type": "stream",
          "name": "stdout",
          "text": [
            "Overwriting app.py\n"
          ]
        }
      ]
    },
    {
      "cell_type": "code",
      "source": [
        "!ngrok authtoken 2pWW0XfbvaktveDe8yiGGwsULY4_2ruivCyVZmVyQYPSEPGrQ\n"
      ],
      "metadata": {
        "id": "icMgkgwJ1OoE",
        "outputId": "c8346f69-7dfa-4196-cd79-9832408015b8",
        "colab": {
          "base_uri": "https://localhost:8080/"
        }
      },
      "execution_count": 103,
      "outputs": [
        {
          "output_type": "stream",
          "name": "stdout",
          "text": [
            "Authtoken saved to configuration file: /root/.config/ngrok/ngrok.yml\n"
          ]
        }
      ]
    },
    {
      "cell_type": "code",
      "source": [
        "!killall ngrok\n"
      ],
      "metadata": {
        "id": "oFX8JHLw4ddq"
      },
      "execution_count": 104,
      "outputs": []
    },
    {
      "cell_type": "code",
      "source": [
        "from pyngrok import ngrok\n",
        "\n",
        "# Connect to port 8501 and specify the tunnel type\n",
        "public_url = ngrok.connect(8501)\n",
        "print(f\"Streamlit app URL: {public_url}\")\n"
      ],
      "metadata": {
        "id": "ecJJucq90NP8",
        "outputId": "0723d643-1245-4dd4-b827-a85bc3373e6a",
        "colab": {
          "base_uri": "https://localhost:8080/"
        }
      },
      "execution_count": 105,
      "outputs": [
        {
          "output_type": "stream",
          "name": "stdout",
          "text": [
            "Streamlit app URL: NgrokTunnel: \"https://9375-34-86-198-240.ngrok-free.app\" -> \"http://localhost:8501\"\n"
          ]
        }
      ]
    },
    {
      "cell_type": "code",
      "source": [
        "!streamlit run app.py &>/dev/null&\n",
        "\n"
      ],
      "metadata": {
        "id": "bwhVllcE2BUp"
      },
      "execution_count": 106,
      "outputs": []
    },
    {
      "cell_type": "code",
      "source": [],
      "metadata": {
        "id": "ay4D1JJMNvpk"
      },
      "execution_count": null,
      "outputs": []
    }
  ]
}